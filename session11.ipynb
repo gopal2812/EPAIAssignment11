{
  "nbformat": 4,
  "nbformat_minor": 0,
  "metadata": {
    "colab": {
      "name": "Untitled78.ipynb",
      "provenance": [],
      "collapsed_sections": [],
      "authorship_tag": "ABX9TyPtMaal3Ifob7IbPlA3AQXQ",
      "include_colab_link": true
    },
    "kernelspec": {
      "name": "python3",
      "display_name": "Python 3"
    },
    "language_info": {
      "name": "python"
    }
  },
  "cells": [
    {
      "cell_type": "markdown",
      "metadata": {
        "id": "view-in-github",
        "colab_type": "text"
      },
      "source": [
        "<a href=\"https://colab.research.google.com/github/gopal2812/EPAIAssignment11/blob/main/session11.ipynb\" target=\"_parent\"><img src=\"https://colab.research.google.com/assets/colab-badge.svg\" alt=\"Open In Colab\"/></a>"
      ]
    },
    {
      "cell_type": "markdown",
      "metadata": {
        "id": "zOaVJKUqm_qd"
      },
      "source": [
        "##Description\n",
        "The starting point for this project is the Polygon class and the Polygons sequence type we created in the previous project or mentioed in deepNote\n",
        "\n",
        "###Goal\n",
        "Refactor the Polygons (sequence) type, into an iterable. You'll need to implement both an iterable, and an iterator."
      ]
    },
    {
      "cell_type": "markdown",
      "metadata": {
        "id": "sEhM2EjmoXPB"
      },
      "source": [
        "### Polygon Class\n",
        "1. A regular strictly convex polygon is a polygon that has the following characteristics:\n",
        "    * All interior angles are less than 180\n",
        "    * All sides have equal length\n",
        "\n",
        "2. For a regular strictly convex polygon with vertices n and circumradius r:\n",
        "    * interiorAngle = (n−2) * (180/n)\n",
        "    * edgeLength, s = 2 * R * sin(π/n) \n",
        "    * apothem, a = R * cos(π/n)\n",
        "    * area = (1/2) * n * a\n",
        "    * perimeter = n * s\n",
        "3. Create a Polygon Class:\n",
        "     \n",
        "     1. Where initializer takes in:\n",
        "        * number of edges/vertices\n",
        "        * circumradius\n",
        "      2. That can provide these properties:\n",
        "          * edges\n",
        "          * vertices\n",
        "          * interior angle\n",
        "          * edge length\n",
        "          * apothem\n",
        "          * area\n",
        "          * perimeter\n",
        "      3. That has these functionalities:\n",
        "          * a proper __repr__ function\n",
        "          * implements equality (==) based on # vertices and circumradius (__eq__)\n",
        "          * implements > based on number of vertices only (__gt__)"
      ]
    },
    {
      "cell_type": "code",
      "metadata": {
        "id": "-oFOn7T8oMVS"
      },
      "source": [
        "import math\n",
        "\n",
        "class Polygon:\n",
        "    \"\"\"\n",
        "    Polygon class to create polygons which are regular strictly convex.\n",
        "    Regular strict polygons have two properties:\n",
        "    1- All interior angles are less than 180.\n",
        "    2- All sides have equal length\n",
        "    \"\"\"\n",
        "    def __init__(self, n, R):\n",
        "        \"\"\" Initialize the edges, circumradius, interiorAngle, edgeLength ,\n",
        "            apothem, area, perimeter. \"\"\"\n",
        "        if n < 3:\n",
        "            raise ValueError('Polygon must have at least 3 vertices.')\n",
        "        self._n = n\n",
        "        self._R = R\n",
        "        \n",
        "    def __repr__(self):\n",
        "        \"\"\" This function gives the details of the Polygon Sequence object\"\"\"        \n",
        "        return f'Polygon(n={self._n}, R={self._R})'\n",
        "    \n",
        "    @property\n",
        "    def count_vertices(self):\n",
        "        \"\"\"Number of vertices in the polygon\"\"\"\n",
        "        return self._n\n",
        "    \n",
        "    @property\n",
        "    def count_edges(self):\n",
        "        \"\"\"Number of edges in the polygon\"\"\"\n",
        "        return self._n\n",
        "    \n",
        "    @property\n",
        "    def circumradius(self):\n",
        "        \"\"\"Circumradius of the polygon\"\"\"\n",
        "        return self._R\n",
        "    \n",
        "    @property\n",
        "    def interior_angle(self):\n",
        "        \"\"\"Interior angle of the polygon\"\"\"\n",
        "        return (self._n - 2) * 180 / self._n\n",
        "\n",
        "    @property\n",
        "    def side_length(self):\n",
        "        \"\"\"side length of the polygon\"\"\"\n",
        "        return 2 * self._R * math.sin(math.pi / self._n)\n",
        "    \n",
        "    @property\n",
        "    def apothem(self):\n",
        "        \"\"\"apothem of the polygon\"\"\"\n",
        "        return self._R * math.cos(math.pi / self._n)\n",
        "    \n",
        "    @property\n",
        "    def area(self):\n",
        "        \"\"\"area of the polygon\"\"\"\n",
        "        return self._n / 2 * self.side_length * self.apothem\n",
        "    \n",
        "    @property\n",
        "    def perimeter(self):\n",
        "        \"\"\"perimeter of the polygon\"\"\"\n",
        "        return self._n * self.side_length\n",
        "    \n",
        "    def __eq__(self, other):\n",
        "        \"\"\"Provides ability to compare two objects for euality (==).\"\"\"\n",
        "        if isinstance(other, self.__class__):\n",
        "            return (self.count_edges == other.count_edges \n",
        "                    and self.circumradius == other.circumradius)\n",
        "        else:\n",
        "            return NotImplemented\n",
        "        \n",
        "    def __gt__(self, other):\n",
        "        \"\"\"Provide ability to compare two objects for greater than '>' test.\"\"\"\n",
        "        if isinstance(other, self.__class__):\n",
        "            return self.count_vertices > other.count_vertices\n",
        "        else:\n",
        "            return NotImplemented"
      ],
      "execution_count": 49,
      "outputs": []
    },
    {
      "cell_type": "markdown",
      "metadata": {
        "id": "9iSByK4lpcii"
      },
      "source": [
        "**Objective 2**:\n",
        "    Implement a Custom Polygon sequence type:\n",
        "    \n",
        "    1. Where initializer takes in:\n",
        "        * number of vertices for largest polygon in the sequence\n",
        "        * common circumradius for all polygons\n",
        "        * that can provide these properties:\n",
        "        * max efficiency polygon: returns the Polygon with the highest area: perimeter ratio\n",
        "     2. that has these functionalities:\n",
        "        * functions as a sequence type (__getitem__)\n",
        "        * supports the len() function (__len__)\n",
        "        * has a proper representation (__repr__)"
      ]
    },
    {
      "cell_type": "code",
      "metadata": {
        "id": "BP1CTVvgP1jQ"
      },
      "source": [
        "class Polygons:\n",
        "    \"\"\"\n",
        "    Custom polygon sequence containing polygons where maximum number of edges in a polygon is given\n",
        "    by m  and circumradius (R) for all polygons is is given by circumradius and is same for all polygons\"\n",
        "    \"\"\"\n",
        "    def __init__(self, m, R):\n",
        "        if m < 3:\n",
        "            raise ValueError('m must be greater than 3')\n",
        "        self._m = m\n",
        "        self._R = R\n",
        "        self._polygons = [Polygon(i, R) for i in range(3, m+1)]\n",
        "\n",
        "\n",
        "    def __len__(self):\n",
        "      \"\"\" This function gives the length of the Polygon Sequence object \"\"\"\n",
        "      return self._m - 2\n",
        "    \n",
        "\n",
        "    def __repr__(self):\n",
        "      \"\"\" This function gives the details of the Polygon Sequence object\"\"\"\n",
        "      return f'Polygons(m={self._m}, R={self._R})'\n",
        "    \n",
        "\n",
        "    def __getitem__(self, s):\n",
        "      \"\"\" This function returns the properties of the polygon whose vertices, \n",
        "      circumradius are as passed in the arguments.\"\"\"\n",
        "      return self._polygons[s]\n",
        "    \n",
        "\n",
        "    def __iter__(self):\n",
        "      \"\"\"Iterable Function--> This function returns the iterator for the \n",
        "      Polygon object\"\"\"\n",
        "      print(\"Calling Polygon instance __iter__\")\n",
        "      return self.PolygonIterator(self)\n",
        "\n",
        "    \n",
        "    @property\n",
        "    def max_efficiency_polygon(self):\n",
        "      \"\"\" This function returns the maximum efficiency polygon.\n",
        "      Here, a maximum efficiency polygon is one that has the highest area to\n",
        "      perimeter ratio.\"\"\"\n",
        "      sorted_polygons = sorted(self._polygons, \n",
        "                              key=lambda p: p.area/p.perimeter,\n",
        "                              reverse=True)\n",
        "      return sorted_polygons[0]\n",
        "    \n",
        "    class PolygonIterator:\n",
        "      \"\"\"This is an Iterator for the polygons class\"\"\"\n",
        "      def __init__(self, poly_obj):\n",
        "        \"\"\"Function initializing the polygon Iterator and\n",
        "        index. Index is used to return the next element in the polygon\n",
        "        sequence when used as a iterator\"\"\"\n",
        "            \n",
        "        # poly_obj is an instance of Polygons\n",
        "        print(\"Calling PolygonIterator __init__\")\n",
        "        self._poly_obj = poly_obj\n",
        "        self._index = 0\n",
        "\n",
        "\n",
        "      def __iter__(self):\n",
        "        \"\"\" PolygonIterator instance returning self\"\"\"\n",
        "        print(\"Calling PolygonIterator instance __iter__\")\n",
        "        return self  \n",
        "\n",
        "\n",
        "      def __next__(self):\n",
        "        \"\"\"PolygonIterator next function which return the next element in \n",
        "        Polygons sequence if current index is less than length of Polygons obj\"\"\"\n",
        "        print(\"Calling PolygonIterator __next__\")\n",
        "        if self._index >= len(self._poly_obj):\n",
        "            raise StopIteration\n",
        "        else:\n",
        "            item = self._poly_obj._polygons[self._index]\n",
        "            self._index += 1\n",
        "            print(f'here: {self._index}')\n",
        "            return item"
      ],
      "execution_count": 58,
      "outputs": []
    },
    {
      "cell_type": "markdown",
      "metadata": {
        "id": "7g1P2WRNp8bb"
      },
      "source": [
        "* Refactor the Polygons (sequence) type, into an iterable. You'll need to implement both an iterable, and an iterator."
      ]
    },
    {
      "cell_type": "markdown",
      "metadata": {
        "id": "ZDCqlE2_qKAB"
      },
      "source": [
        "* Test Polygon Sequence"
      ]
    },
    {
      "cell_type": "code",
      "metadata": {
        "id": "tkYLHU3rWiEk"
      },
      "source": [
        "def test_polygon():\n",
        "    abs_tol = 0.001\n",
        "    rel_tol = 0.001\n",
        "    \n",
        "    try:\n",
        "        p = Polygon(2, 10)\n",
        "        assert False, ('Creating a Polygon with 2 sides: '\n",
        "                       ' Exception expected, not received')\n",
        "    except ValueError:\n",
        "        pass\n",
        "                       \n",
        "    n = 3\n",
        "    R = 1\n",
        "    p = Polygon(n, R)\n",
        "    assert str(p) == 'Polygon(n=3, R=1)', f'actual: {str(p)}'\n",
        "    assert p.count_vertices == n, (f'actual: {p.count_vertices},'\n",
        "                                   f' expected: {n}')\n",
        "    assert p.count_edges == n, f'actual: {p.count_edges}, expected: {n}'\n",
        "    assert p.circumradius == R, f'actual: {p.circumradius}, expected: {n}'\n",
        "    assert p.interior_angle == 60, (f'actual: {p.interior_angle},'\n",
        "                                    ' expected: 60')\n",
        "    n = 4\n",
        "    R = 1\n",
        "    p = Polygon(n, R)\n",
        "    assert p.interior_angle == 90, (f'actual: {p.interior_angle}, '\n",
        "                                    ' expected: 90')\n",
        "    assert math.isclose(p.area, 2, \n",
        "                        rel_tol=abs_tol, \n",
        "                        abs_tol=abs_tol), (f'actual: {p.area},'\n",
        "                                           ' expected: 2.0')\n",
        "    \n",
        "    assert math.isclose(p.side_length, math.sqrt(2),\n",
        "                       rel_tol=rel_tol,\n",
        "                       abs_tol=abs_tol), (f'actual: {p.side_length},'\n",
        "                                          f' expected: {math.sqrt(2)}')\n",
        "    \n",
        "    assert math.isclose(p.perimeter, 4 * math.sqrt(2),\n",
        "                       rel_tol=rel_tol,\n",
        "                       abs_tol=abs_tol), (f'actual: {p.perimeter},'\n",
        "                                          f' expected: {4 * math.sqrt(2)}')\n",
        "    \n",
        "    assert math.isclose(p.apothem, 0.707,\n",
        "                       rel_tol=rel_tol,\n",
        "                       abs_tol=abs_tol), (f'actual: {p.perimeter},'\n",
        "                                          ' expected: 0.707')\n",
        "    p = Polygon(6, 2)\n",
        "    assert math.isclose(p.side_length, 2,\n",
        "                        rel_tol=rel_tol, abs_tol=abs_tol)\n",
        "    assert math.isclose(p.apothem, 1.73205,\n",
        "                        rel_tol=rel_tol, abs_tol=abs_tol)\n",
        "    assert math.isclose(p.area, 10.3923,\n",
        "                        rel_tol=rel_tol, abs_tol=abs_tol)\n",
        "    assert math.isclose(p.perimeter, 12,\n",
        "                        rel_tol=rel_tol, abs_tol=abs_tol)\n",
        "    assert math.isclose(p.interior_angle, 120,\n",
        "                        rel_tol=rel_tol, abs_tol=abs_tol)\n",
        "    \n",
        "    p = Polygon(12, 3)\n",
        "    assert math.isclose(p.side_length, 1.55291,\n",
        "                        rel_tol=rel_tol, abs_tol=abs_tol)\n",
        "    assert math.isclose(p.apothem, 2.89778,\n",
        "                        rel_tol=rel_tol, abs_tol=abs_tol)\n",
        "    assert math.isclose(p.area, 27,\n",
        "                        rel_tol=rel_tol, abs_tol=abs_tol)\n",
        "    assert math.isclose(p.perimeter, 18.635,\n",
        "                        rel_tol=rel_tol, abs_tol=abs_tol)\n",
        "    assert math.isclose(p.interior_angle, 150,\n",
        "                        rel_tol=rel_tol, abs_tol=abs_tol)\n",
        "    \n",
        "    p1 = Polygon(3, 10)\n",
        "    p2 = Polygon(10, 10)\n",
        "    p3 = Polygon(15, 10)\n",
        "    p4 = Polygon(15, 100)\n",
        "    p5 = Polygon(15, 100)\n",
        "    \n",
        "    assert p2 > p1\n",
        "    assert p2 < p3\n",
        "    assert p3 != p4\n",
        "    assert p1 != p4\n",
        "    assert p4 == p5"
      ],
      "execution_count": 57,
      "outputs": []
    },
    {
      "cell_type": "markdown",
      "metadata": {
        "id": "vtQ9OkctqRRl"
      },
      "source": [
        "* Test Polygon Iterator"
      ]
    },
    {
      "cell_type": "code",
      "metadata": {
        "id": "4K60PGxFeq5u"
      },
      "source": [
        "## Initializing an Polygon sequence object\n",
        "P1 = Polygons(7,5)"
      ],
      "execution_count": 60,
      "outputs": []
    },
    {
      "cell_type": "code",
      "metadata": {
        "colab": {
          "base_uri": "https://localhost:8080/"
        },
        "id": "oNssy7FVfHab",
        "outputId": "9206e099-1595-4559-8e2b-87930fa2e319"
      },
      "source": [
        "# Iterate over polygon sequence object\n",
        "iter_p = iter(P1)\n",
        "for polygon in iter_p:\n",
        "  print(polygon)"
      ],
      "execution_count": 61,
      "outputs": [
        {
          "output_type": "stream",
          "text": [
            "Calling Polygon instance __iter__\n",
            "Calling PolygonIterator __init__\n",
            "Calling PolygonIterator instance __iter__\n",
            "Calling PolygonIterator __next__\n",
            "here: 1\n",
            "Polygon(n=3, R=5)\n",
            "Calling PolygonIterator __next__\n",
            "here: 2\n",
            "Polygon(n=4, R=5)\n",
            "Calling PolygonIterator __next__\n",
            "here: 3\n",
            "Polygon(n=5, R=5)\n",
            "Calling PolygonIterator __next__\n",
            "here: 4\n",
            "Polygon(n=6, R=5)\n",
            "Calling PolygonIterator __next__\n",
            "here: 5\n",
            "Polygon(n=7, R=5)\n",
            "Calling PolygonIterator __next__\n"
          ],
          "name": "stdout"
        }
      ]
    },
    {
      "cell_type": "code",
      "metadata": {
        "colab": {
          "base_uri": "https://localhost:8080/"
        },
        "id": "S-ucD2y8iLc8",
        "outputId": "cee93360-10bc-4306-c0fa-097b35c9049c"
      },
      "source": [
        "#Check the typr of \n",
        "type(iter_p)"
      ],
      "execution_count": 62,
      "outputs": [
        {
          "output_type": "execute_result",
          "data": {
            "text/plain": [
              "__main__.Polygons.PolygonIterator"
            ]
          },
          "metadata": {
            "tags": []
          },
          "execution_count": 62
        }
      ]
    },
    {
      "cell_type": "code",
      "metadata": {
        "colab": {
          "base_uri": "https://localhost:8080/"
        },
        "id": "V0hdm7DwkDNH",
        "outputId": "2ac57ebf-5659-46b0-894b-3986a438afdc"
      },
      "source": [
        "# Check the iterable properties  i.e. If something (l for instance above) doesn't get exhausted, and it is iteratable.\n",
        "for poly in P1:\n",
        "    print(poly)\n",
        "\n",
        "print (\"P1 is an unexhaustable source and it an Iterable\\n\")    \n",
        "\n",
        "for poly1 in P1:\n",
        "    print(poly1)"
      ],
      "execution_count": 63,
      "outputs": [
        {
          "output_type": "stream",
          "text": [
            "Calling Polygon instance __iter__\n",
            "Calling PolygonIterator __init__\n",
            "Calling PolygonIterator __next__\n",
            "here: 1\n",
            "Polygon(n=3, R=5)\n",
            "Calling PolygonIterator __next__\n",
            "here: 2\n",
            "Polygon(n=4, R=5)\n",
            "Calling PolygonIterator __next__\n",
            "here: 3\n",
            "Polygon(n=5, R=5)\n",
            "Calling PolygonIterator __next__\n",
            "here: 4\n",
            "Polygon(n=6, R=5)\n",
            "Calling PolygonIterator __next__\n",
            "here: 5\n",
            "Polygon(n=7, R=5)\n",
            "Calling PolygonIterator __next__\n",
            "P1 is an unexhaustable source and it an Iterable\n",
            "\n",
            "Calling Polygon instance __iter__\n",
            "Calling PolygonIterator __init__\n",
            "Calling PolygonIterator __next__\n",
            "here: 1\n",
            "Polygon(n=3, R=5)\n",
            "Calling PolygonIterator __next__\n",
            "here: 2\n",
            "Polygon(n=4, R=5)\n",
            "Calling PolygonIterator __next__\n",
            "here: 3\n",
            "Polygon(n=5, R=5)\n",
            "Calling PolygonIterator __next__\n",
            "here: 4\n",
            "Polygon(n=6, R=5)\n",
            "Calling PolygonIterator __next__\n",
            "here: 5\n",
            "Polygon(n=7, R=5)\n",
            "Calling PolygonIterator __next__\n"
          ],
          "name": "stdout"
        }
      ]
    },
    {
      "cell_type": "code",
      "metadata": {
        "colab": {
          "base_uri": "https://localhost:8080/"
        },
        "id": "1EmzukSTlhXi",
        "outputId": "c775b516-3fc9-4baf-d313-f885c3932e3a"
      },
      "source": [
        "#check the slicing functionality\n",
        "P1[0:5]"
      ],
      "execution_count": 64,
      "outputs": [
        {
          "output_type": "execute_result",
          "data": {
            "text/plain": [
              "[Polygon(n=3, R=5),\n",
              " Polygon(n=4, R=5),\n",
              " Polygon(n=5, R=5),\n",
              " Polygon(n=6, R=5),\n",
              " Polygon(n=7, R=5)]"
            ]
          },
          "metadata": {
            "tags": []
          },
          "execution_count": 64
        }
      ]
    },
    {
      "cell_type": "code",
      "metadata": {
        "id": "HcEDP9uHlvL7"
      },
      "source": [
        "# check the sequence property\n",
        "P1[2]"
      ],
      "execution_count": null,
      "outputs": []
    },
    {
      "cell_type": "code",
      "metadata": {
        "colab": {
          "base_uri": "https://localhost:8080/",
          "height": 634
        },
        "id": "UBLMJz9IhTfE",
        "outputId": "125612c3-adf7-4973-aee9-6dfea4eebe33"
      },
      "source": [
        "# Check if stopIteration be called after it reaches its limit in an iteration\n",
        "iter_p1 = iter(P1)\n",
        "print(next(iter_p1))\n",
        "print(next(iter_p1))\n",
        "print(next(iter_p1))\n",
        "print(next(iter_p1))\n",
        "print(next(iter_p1))\n",
        "print(next(iter_p1))"
      ],
      "execution_count": 66,
      "outputs": [
        {
          "output_type": "stream",
          "text": [
            "Calling Polygon instance __iter__\n",
            "Calling PolygonIterator __init__\n",
            "Calling PolygonIterator __next__\n",
            "here: 1\n",
            "Polygon(n=3, R=5)\n",
            "Calling PolygonIterator __next__\n",
            "here: 2\n",
            "Polygon(n=4, R=5)\n",
            "Calling PolygonIterator __next__\n",
            "here: 3\n",
            "Polygon(n=5, R=5)\n",
            "Calling PolygonIterator __next__\n",
            "here: 4\n",
            "Polygon(n=6, R=5)\n",
            "Calling PolygonIterator __next__\n",
            "here: 5\n",
            "Polygon(n=7, R=5)\n",
            "Calling PolygonIterator __next__\n"
          ],
          "name": "stdout"
        },
        {
          "output_type": "error",
          "ename": "StopIteration",
          "evalue": "ignored",
          "traceback": [
            "\u001b[0;31m---------------------------------------------------------------------------\u001b[0m",
            "\u001b[0;31mStopIteration\u001b[0m                             Traceback (most recent call last)",
            "\u001b[0;32m<ipython-input-66-ac2d431d2125>\u001b[0m in \u001b[0;36m<module>\u001b[0;34m()\u001b[0m\n\u001b[1;32m      6\u001b[0m \u001b[0mprint\u001b[0m\u001b[0;34m(\u001b[0m\u001b[0mnext\u001b[0m\u001b[0;34m(\u001b[0m\u001b[0miter_p1\u001b[0m\u001b[0;34m)\u001b[0m\u001b[0;34m)\u001b[0m\u001b[0;34m\u001b[0m\u001b[0;34m\u001b[0m\u001b[0m\n\u001b[1;32m      7\u001b[0m \u001b[0mprint\u001b[0m\u001b[0;34m(\u001b[0m\u001b[0mnext\u001b[0m\u001b[0;34m(\u001b[0m\u001b[0miter_p1\u001b[0m\u001b[0;34m)\u001b[0m\u001b[0;34m)\u001b[0m\u001b[0;34m\u001b[0m\u001b[0;34m\u001b[0m\u001b[0m\n\u001b[0;32m----> 8\u001b[0;31m \u001b[0mprint\u001b[0m\u001b[0;34m(\u001b[0m\u001b[0mnext\u001b[0m\u001b[0;34m(\u001b[0m\u001b[0miter_p1\u001b[0m\u001b[0;34m)\u001b[0m\u001b[0;34m)\u001b[0m\u001b[0;34m\u001b[0m\u001b[0;34m\u001b[0m\u001b[0m\n\u001b[0m",
            "\u001b[0;32m<ipython-input-58-2a22c5553f97>\u001b[0m in \u001b[0;36m__next__\u001b[0;34m(self)\u001b[0m\n\u001b[1;32m     69\u001b[0m         \u001b[0mprint\u001b[0m\u001b[0;34m(\u001b[0m\u001b[0;34m\"Calling PolygonIterator __next__\"\u001b[0m\u001b[0;34m)\u001b[0m\u001b[0;34m\u001b[0m\u001b[0;34m\u001b[0m\u001b[0m\n\u001b[1;32m     70\u001b[0m         \u001b[0;32mif\u001b[0m \u001b[0mself\u001b[0m\u001b[0;34m.\u001b[0m\u001b[0m_index\u001b[0m \u001b[0;34m>=\u001b[0m \u001b[0mlen\u001b[0m\u001b[0;34m(\u001b[0m\u001b[0mself\u001b[0m\u001b[0;34m.\u001b[0m\u001b[0m_poly_obj\u001b[0m\u001b[0;34m)\u001b[0m\u001b[0;34m:\u001b[0m\u001b[0;34m\u001b[0m\u001b[0;34m\u001b[0m\u001b[0m\n\u001b[0;32m---> 71\u001b[0;31m             \u001b[0;32mraise\u001b[0m \u001b[0mStopIteration\u001b[0m\u001b[0;34m\u001b[0m\u001b[0;34m\u001b[0m\u001b[0m\n\u001b[0m\u001b[1;32m     72\u001b[0m         \u001b[0;32melse\u001b[0m\u001b[0;34m:\u001b[0m\u001b[0;34m\u001b[0m\u001b[0;34m\u001b[0m\u001b[0m\n\u001b[1;32m     73\u001b[0m             \u001b[0mitem\u001b[0m \u001b[0;34m=\u001b[0m \u001b[0mself\u001b[0m\u001b[0;34m.\u001b[0m\u001b[0m_poly_obj\u001b[0m\u001b[0;34m.\u001b[0m\u001b[0m_polygons\u001b[0m\u001b[0;34m[\u001b[0m\u001b[0mself\u001b[0m\u001b[0;34m.\u001b[0m\u001b[0m_index\u001b[0m\u001b[0;34m]\u001b[0m\u001b[0;34m\u001b[0m\u001b[0;34m\u001b[0m\u001b[0m\n",
            "\u001b[0;31mStopIteration\u001b[0m: "
          ]
        }
      ]
    },
    {
      "cell_type": "code",
      "metadata": {
        "colab": {
          "base_uri": "https://localhost:8080/"
        },
        "id": "691ELwqqhtHS",
        "outputId": "4775913a-bf3e-4b59-e0a5-96f7bf302e51"
      },
      "source": [
        "help(polygon)"
      ],
      "execution_count": 67,
      "outputs": [
        {
          "output_type": "stream",
          "text": [
            "Help on Polygon in module __main__ object:\n",
            "\n",
            "class Polygon(builtins.object)\n",
            " |  Polygon(n, R)\n",
            " |  \n",
            " |  Polygon class to create polygons which are regular strictly convex.\n",
            " |  Regular strict polygons have two properties:\n",
            " |  1- All interior angles are less than 180.\n",
            " |  2- All sides have equal length\n",
            " |  \n",
            " |  Methods defined here:\n",
            " |  \n",
            " |  __eq__(self, other)\n",
            " |      Provides ability to compare two objects for euality (==).\n",
            " |  \n",
            " |  __gt__(self, other)\n",
            " |      Provide ability to compare two objects for greater than '>' test.\n",
            " |  \n",
            " |  __init__(self, n, R)\n",
            " |      Initialize the edges, circumradius, interiorAngle, edgeLength ,\n",
            " |      apothem, area, perimeter.\n",
            " |  \n",
            " |  __repr__(self)\n",
            " |      This function gives the details of the Polygon Sequence object\n",
            " |  \n",
            " |  ----------------------------------------------------------------------\n",
            " |  Data descriptors defined here:\n",
            " |  \n",
            " |  __dict__\n",
            " |      dictionary for instance variables (if defined)\n",
            " |  \n",
            " |  __weakref__\n",
            " |      list of weak references to the object (if defined)\n",
            " |  \n",
            " |  apothem\n",
            " |      apothem of the polygon\n",
            " |  \n",
            " |  area\n",
            " |      area of the polygon\n",
            " |  \n",
            " |  circumradius\n",
            " |      Circumradius of the polygon\n",
            " |  \n",
            " |  count_edges\n",
            " |      Number of edges in the polygon\n",
            " |  \n",
            " |  count_vertices\n",
            " |      Number of vertices in the polygon\n",
            " |  \n",
            " |  interior_angle\n",
            " |      Interior angle of the polygon\n",
            " |  \n",
            " |  perimeter\n",
            " |      perimeter of the polygon\n",
            " |  \n",
            " |  side_length\n",
            " |      side length of the polygon\n",
            " |  \n",
            " |  ----------------------------------------------------------------------\n",
            " |  Data and other attributes defined here:\n",
            " |  \n",
            " |  __hash__ = None\n",
            "\n"
          ],
          "name": "stdout"
        }
      ]
    },
    {
      "cell_type": "code",
      "metadata": {
        "colab": {
          "base_uri": "https://localhost:8080/"
        },
        "id": "slEpOjUxqbp-",
        "outputId": "6f20ec7c-1f73-4379-8940-a42af721320b"
      },
      "source": [
        "help(Polygons)"
      ],
      "execution_count": 68,
      "outputs": [
        {
          "output_type": "stream",
          "text": [
            "Help on class Polygons in module __main__:\n",
            "\n",
            "class Polygons(builtins.object)\n",
            " |  Polygons(m, R)\n",
            " |  \n",
            " |  Custom polygon sequence containing polygons where maximum number of edges in a polygon is given\n",
            " |  by m  and circumradius (R) for all polygons is is given by circumradius and is same for all polygons\"\n",
            " |  \n",
            " |  Methods defined here:\n",
            " |  \n",
            " |  __getitem__(self, s)\n",
            " |      This function returns the properties of the polygon whose vertices, \n",
            " |      circumradius are as passed in the arguments.\n",
            " |  \n",
            " |  __init__(self, m, R)\n",
            " |      Initialize self.  See help(type(self)) for accurate signature.\n",
            " |  \n",
            " |  __iter__(self)\n",
            " |      Iterable Function--> This function returns the iterator for the \n",
            " |      Polygon object\n",
            " |  \n",
            " |  __len__(self)\n",
            " |      This function gives the length of the Polygon Sequence object\n",
            " |  \n",
            " |  __repr__(self)\n",
            " |      This function gives the details of the Polygon Sequence object\n",
            " |  \n",
            " |  ----------------------------------------------------------------------\n",
            " |  Data descriptors defined here:\n",
            " |  \n",
            " |  __dict__\n",
            " |      dictionary for instance variables (if defined)\n",
            " |  \n",
            " |  __weakref__\n",
            " |      list of weak references to the object (if defined)\n",
            " |  \n",
            " |  max_efficiency_polygon\n",
            " |      This function returns the maximum efficiency polygon.\n",
            " |      Here, a maximum efficiency polygon is one that has the highest area to\n",
            " |      perimeter ratio.\n",
            " |  \n",
            " |  ----------------------------------------------------------------------\n",
            " |  Data and other attributes defined here:\n",
            " |  \n",
            " |  PolygonIterator = <class '__main__.Polygons.PolygonIterator'>\n",
            " |      This is an Iterator for the polygons class\n",
            "\n"
          ],
          "name": "stdout"
        }
      ]
    },
    {
      "cell_type": "code",
      "metadata": {
        "colab": {
          "base_uri": "https://localhost:8080/"
        },
        "id": "0QOSg1XqqmBJ",
        "outputId": "383ce86b-13c0-486e-b3b2-afdc3a269831"
      },
      "source": [
        "help(PolygonIterator)"
      ],
      "execution_count": 69,
      "outputs": [
        {
          "output_type": "stream",
          "text": [
            "Help on class PolygonIterator in module __main__:\n",
            "\n",
            "class PolygonIterator(builtins.object)\n",
            " |  PolygonIterator(poly_obj)\n",
            " |  \n",
            " |  This is an Iterator for the polygons class\n",
            " |  \n",
            " |  Methods defined here:\n",
            " |  \n",
            " |  __init__(self, poly_obj)\n",
            " |      Function initializing the polygon Iterator and\n",
            " |      index. Index is used to return the next element in the polygon\n",
            " |      sequence when used as a iterator\n",
            " |  \n",
            " |  __iter__(self)\n",
            " |      PolygonIterator instance returning self\n",
            " |  \n",
            " |  __next__(self)\n",
            " |      PolygonIterator next function which return the next element in \n",
            " |      Polygons sequence if current index is less than length of Polygons obj\n",
            " |  \n",
            " |  ----------------------------------------------------------------------\n",
            " |  Data descriptors defined here:\n",
            " |  \n",
            " |  __dict__\n",
            " |      dictionary for instance variables (if defined)\n",
            " |  \n",
            " |  __weakref__\n",
            " |      list of weak references to the object (if defined)\n",
            "\n"
          ],
          "name": "stdout"
        }
      ]
    }
  ]
}